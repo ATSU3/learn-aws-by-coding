{
 "cells": [
  {
   "cell_type": "code",
   "execution_count": 1,
   "id": "5ca899c9",
   "metadata": {},
   "outputs": [],
   "source": [
    "import boto3\n",
    "import argparse"
   ]
  },
  {
   "cell_type": "code",
   "execution_count": 2,
   "id": "a24c0e2b",
   "metadata": {},
   "outputs": [],
   "source": [
    "def submit_job(lr:float, momentum:float, epochs:int, profile_name=\"default\"):\n",
    "    \"\"\"\n",
    "    Submit a job to AWS Batch queue.\n",
    "    Parameters\n",
    "    ----------\n",
    "    lr: float\n",
    "        Learning rate\n",
    "    momentum: float\n",
    "    epochs: float\n",
    "        Maximum number of training epochs\n",
    "    profile_name: str\n",
    "        The profile name used to access AWS.\n",
    "        The profile is defined in `~/.aws/credentials`.\n",
    "        Default value is \"default\".\n",
    "    \"\"\"\n",
    "    session = boto3.Session(profile_name=profile_name)\n",
    "    client = session.client(\"batch\")\n",
    "    \n",
    "    title = \"lr\" + str(lr).replace(\".\", \"\") + \"_m\" + str(momentum).replace(\".\", \"\")\n",
    "    resp = client.submit_job(\n",
    "        jobName=title,\n",
    "        jobQueue=\"SimpleBatchjob-queue\",\n",
    "        jobDefinition=\"SimpleBatchjob-definition\",\n",
    "        containerOverrides={\n",
    "            \"command\": [\"python3\", \"main.py\",\n",
    "                        \"--lr\", str(lr),\n",
    "                        \"--momentum\", str(momentum),\n",
    "                        \"--epochs\", str(epochs),\n",
    "                        \"--uploadS3\", \"true\"]\n",
    "        }\n",
    "    )\n",
    "    print(\"Job submitted!\")\n",
    "    print(\"job name\", resp[\"jobName\"], \"job ID\", resp[\"jobId\"])"
   ]
  },
  {
   "cell_type": "markdown",
   "id": "4c1e22f1",
   "metadata": {},
   "source": [
    "### Let's submit a single job"
   ]
  },
  {
   "cell_type": "code",
   "execution_count": 3,
   "id": "f9acb0b4",
   "metadata": {},
   "outputs": [
    {
     "name": "stdout",
     "output_type": "stream",
     "text": [
      "Job submitted!\n",
      "job name lr001_m01 job ID 9448f82b-0d29-4fdc-9ebe-e672f30848c5\n"
     ]
    }
   ],
   "source": [
    "submit_job(0.01, 0.1, 50, profile_name=\"kaguya\")"
   ]
  },
  {
   "cell_type": "markdown",
   "id": "59b0fc50",
   "metadata": {},
   "source": [
    "### Let's download the learning result and make plots"
   ]
  },
  {
   "cell_type": "code",
   "execution_count": 2,
   "id": "b0cfa247",
   "metadata": {},
   "outputs": [],
   "source": [
    "import pandas as pd\n",
    "import io\n",
    "from matplotlib import pyplot as plt"
   ]
  },
  {
   "cell_type": "code",
   "execution_count": 3,
   "id": "10928b35",
   "metadata": {},
   "outputs": [],
   "source": [
    "def read_table_from_s3(key, profile_name=\"default\"):\n",
    "    session = boto3.Session(profile_name=profile_name)\n",
    "    s3 = session.resource(\"s3\")\n",
    "    bucket = s3.Bucket(\"simplebatchbucket\")\n",
    "    \n",
    "    obj = bucket.Object(key).get().get(\"Body\")\n",
    "    df = pd.read_csv(obj)\n",
    "    \n",
    "    return df"
   ]
  },
  {
   "cell_type": "code",
   "execution_count": 10,
   "id": "1b41bf96",
   "metadata": {},
   "outputs": [],
   "source": [
    "df = read_table_from_s3(\"metrics_lr0.0100_m0.1000.csv\", profile_name=\"kaguya\")"
   ]
  },
  {
   "cell_type": "code",
   "execution_count": 11,
   "id": "6749b933",
   "metadata": {
    "scrolled": true
   },
   "outputs": [
    {
     "data": {
      "text/html": [
       "<div>\n",
       "<style scoped>\n",
       "    .dataframe tbody tr th:only-of-type {\n",
       "        vertical-align: middle;\n",
       "    }\n",
       "\n",
       "    .dataframe tbody tr th {\n",
       "        vertical-align: top;\n",
       "    }\n",
       "\n",
       "    .dataframe thead th {\n",
       "        text-align: right;\n",
       "    }\n",
       "</style>\n",
       "<table border=\"1\" class=\"dataframe\">\n",
       "  <thead>\n",
       "    <tr style=\"text-align: right;\">\n",
       "      <th></th>\n",
       "      <th>train_loss</th>\n",
       "      <th>val_loss</th>\n",
       "      <th>val_accuracy</th>\n",
       "    </tr>\n",
       "  </thead>\n",
       "  <tbody>\n",
       "    <tr>\n",
       "      <th>0</th>\n",
       "      <td>0.576256</td>\n",
       "      <td>0.228649</td>\n",
       "      <td>93.408333</td>\n",
       "    </tr>\n",
       "    <tr>\n",
       "      <th>1</th>\n",
       "      <td>0.306821</td>\n",
       "      <td>0.177331</td>\n",
       "      <td>94.566667</td>\n",
       "    </tr>\n",
       "    <tr>\n",
       "      <th>2</th>\n",
       "      <td>0.242569</td>\n",
       "      <td>0.141495</td>\n",
       "      <td>95.741667</td>\n",
       "    </tr>\n",
       "    <tr>\n",
       "      <th>3</th>\n",
       "      <td>0.205177</td>\n",
       "      <td>0.116622</td>\n",
       "      <td>96.575000</td>\n",
       "    </tr>\n",
       "    <tr>\n",
       "      <th>4</th>\n",
       "      <td>0.171432</td>\n",
       "      <td>0.101879</td>\n",
       "      <td>96.908333</td>\n",
       "    </tr>\n",
       "    <tr>\n",
       "      <th>...</th>\n",
       "      <td>...</td>\n",
       "      <td>...</td>\n",
       "      <td>...</td>\n",
       "    </tr>\n",
       "    <tr>\n",
       "      <th>95</th>\n",
       "      <td>0.010329</td>\n",
       "      <td>0.043034</td>\n",
       "      <td>98.950000</td>\n",
       "    </tr>\n",
       "    <tr>\n",
       "      <th>96</th>\n",
       "      <td>0.010587</td>\n",
       "      <td>0.045424</td>\n",
       "      <td>99.000000</td>\n",
       "    </tr>\n",
       "    <tr>\n",
       "      <th>97</th>\n",
       "      <td>0.010425</td>\n",
       "      <td>0.044859</td>\n",
       "      <td>98.991667</td>\n",
       "    </tr>\n",
       "    <tr>\n",
       "      <th>98</th>\n",
       "      <td>0.010533</td>\n",
       "      <td>0.043775</td>\n",
       "      <td>99.008333</td>\n",
       "    </tr>\n",
       "    <tr>\n",
       "      <th>99</th>\n",
       "      <td>0.011243</td>\n",
       "      <td>0.041988</td>\n",
       "      <td>98.975000</td>\n",
       "    </tr>\n",
       "  </tbody>\n",
       "</table>\n",
       "<p>100 rows × 3 columns</p>\n",
       "</div>"
      ],
      "text/plain": [
       "    train_loss  val_loss  val_accuracy\n",
       "0     0.576256  0.228649     93.408333\n",
       "1     0.306821  0.177331     94.566667\n",
       "2     0.242569  0.141495     95.741667\n",
       "3     0.205177  0.116622     96.575000\n",
       "4     0.171432  0.101879     96.908333\n",
       "..         ...       ...           ...\n",
       "95    0.010329  0.043034     98.950000\n",
       "96    0.010587  0.045424     99.000000\n",
       "97    0.010425  0.044859     98.991667\n",
       "98    0.010533  0.043775     99.008333\n",
       "99    0.011243  0.041988     98.975000\n",
       "\n",
       "[100 rows x 3 columns]"
      ]
     },
     "execution_count": 11,
     "metadata": {},
     "output_type": "execute_result"
    }
   ],
   "source": [
    "df"
   ]
  },
  {
   "cell_type": "code",
   "execution_count": 12,
   "id": "d60786ed",
   "metadata": {},
   "outputs": [
    {
     "name": "stdout",
     "output_type": "stream",
     "text": [
      "Best loss: 0.2286491922140121\n",
      "Best loss epoch: 0\n",
      "Best accuracy: 99.05833333333334\n",
      "Best accuracy epoch: 66\n"
     ]
    },
    {
     "data": {
      "image/png": "[encoded data removed]",
      "text/plain": [
       "<Figure size 648x288 with 2 Axes>"
      ]
     },
     "metadata": {
      "needs_background": "light"
     },
     "output_type": "display_data"
    }
   ],
   "source": [
    "fig, (ax1, ax2) = plt.subplots(1,2, figsize=(9,4))\n",
    "x = [i for i in range(df.shape[0])]\n",
    "ax1.plot(x, df[\"train_loss\"], label=\"Train\")\n",
    "ax1.plot(x, df[\"val_loss\"], label=\"Val\")\n",
    "ax2.plot(x, df[\"val_accuracy\"])\n",
    "\n",
    "ax1.set_xlabel(\"Epochs\")\n",
    "ax1.set_ylabel(\"Loss\")\n",
    "ax1.legend()\n",
    "\n",
    "ax2.set_xlabel(\"Epochs\")\n",
    "ax2.set_ylabel(\"Accuracy\")\n",
    "\n",
    "print(\"Best loss:\", df[\"val_loss\"].max())\n",
    "print(\"Best loss epoch:\", df[\"val_loss\"].argmax())\n",
    "print(\"Best accuracy:\", df[\"val_accuracy\"].max())\n",
    "print(\"Best accuracy epoch:\", df[\"val_accuracy\"].argmax())"
   ]
  },
  {
   "cell_type": "code",
   "execution_count": null,
   "id": "5e7b3bf1",
   "metadata": {},
   "outputs": [],
   "source": []
  }
 ],
 "metadata": {
  "kernelspec": {
   "display_name": "Python 3",
   "language": "python",
   "name": "python3"
  },
  "language_info": {
   "codemirror_mode": {
    "name": "ipython",
    "version": 3
   },
   "file_extension": ".py",
   "mimetype": "text/x-python",
   "name": "python",
   "nbconvert_exporter": "python",
   "pygments_lexer": "ipython3",
   "version": "3.8.5"
  }
 },
 "nbformat": 4,
 "nbformat_minor": 5
}
