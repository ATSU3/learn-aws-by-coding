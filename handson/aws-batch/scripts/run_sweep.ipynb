{
 "cells": [
  {
   "cell_type": "code",
   "execution_count": 1,
   "id": "5ca899c9",
   "metadata": {},
   "outputs": [],
   "source": [
    "import boto3\n",
    "import argparse"
   ]
  },
  {
   "cell_type": "code",
   "execution_count": 2,
   "id": "a24c0e2b",
   "metadata": {},
   "outputs": [],
   "source": [
    "def submit_job(lr:float, momentum:float, epochs:int, profile_name=\"default\"):\n",
    "    \"\"\"\n",
    "    Submit a job to AWS Batch queue.\n",
    "    Parameters\n",
    "    ----------\n",
    "    lr: float\n",
    "        Learning rate\n",
    "    momentum: float\n",
    "    epochs: float\n",
    "        Maximum number of training epochs\n",
    "    profile_name: str\n",
    "        The profile name used to access AWS.\n",
    "        The profile is defined in `~/.aws/credentials`.\n",
    "        Default value is \"default\".\n",
    "    \"\"\"\n",
    "    session = boto3.Session(profile_name=profile_name)\n",
    "    client = session.client(\"batch\")\n",
    "    \n",
    "    title = \"lr\" + str(lr).replace(\".\", \"\") + \"_m\" + str(momentum).replace(\".\", \"\")\n",
    "    resp = client.submit_job(\n",
    "        jobName=title,\n",
    "        jobQueue=\"SimpleBatchjob-queue\",\n",
    "        jobDefinition=\"SimpleBatchjob-definition\",\n",
    "        containerOverrides={\n",
    "            \"command\": [\"python3\", \"main.py\",\n",
    "                        \"--lr\", str(lr),\n",
    "                        \"--momentum\", str(momentum),\n",
    "                        \"--epochs\", str(epochs),\n",
    "                        \"--uploadS3\", \"true\"]\n",
    "        }\n",
    "    )\n",
    "    print(\"Job submitted!\")\n",
    "    print(\"job name\", resp[\"jobName\"], \"job ID\", resp[\"jobId\"])"
   ]
  },
  {
   "cell_type": "markdown",
   "id": "4c1e22f1",
   "metadata": {},
   "source": [
    "### Let's run many tasks in parallel"
   ]
  },
  {
   "cell_type": "code",
   "execution_count": 3,
   "id": "f9acb0b4",
   "metadata": {},
   "outputs": [
    {
     "name": "stdout",
     "output_type": "stream",
     "text": [
      "Job submitted!\n",
      "job name lr01_m05 job ID 8c96d99e-33ec-4a44-afad-5b9bf4ef30fc\n",
      "Job submitted!\n",
      "job name lr01_m01 job ID 2e8a6f65-4f67-49f5-bd70-ca8e42379ce1\n",
      "Job submitted!\n",
      "job name lr01_m005 job ID 54a3536a-b6db-4f5b-83db-c7e2689e3bce\n",
      "Job submitted!\n",
      "job name lr001_m05 job ID ea2573e2-a1d3-4463-9d61-9bb1d676fc7c\n",
      "Job submitted!\n",
      "job name lr001_m01 job ID a94aac61-e35f-4909-9d55-2c3a28299c56\n",
      "Job submitted!\n",
      "job name lr001_m005 job ID 6fd93ea0-2a87-4ed3-9fd5-28c8a5edcb04\n",
      "Job submitted!\n",
      "job name lr0001_m05 job ID b2e26982-fcff-4040-8344-467eed37e906\n",
      "Job submitted!\n",
      "job name lr0001_m01 job ID bf038b50-97d0-4d37-ab88-2b5434ec765d\n",
      "Job submitted!\n",
      "job name lr0001_m005 job ID bb4946f7-f0e6-4223-893d-5ac6606cc28f\n"
     ]
    }
   ],
   "source": [
    "for lr in [0.1, 0.01, 0.001]:\n",
    "    for m in [0.5, 0.1, 0.05]:\n",
    "        submit_job(lr, m, 100, profile_name=\"kaguya\")"
   ]
  },
  {
   "cell_type": "markdown",
   "id": "59b0fc50",
   "metadata": {},
   "source": [
    "### Let's download the learning result and make plots"
   ]
  },
  {
   "cell_type": "code",
   "execution_count": 4,
   "id": "b0cfa247",
   "metadata": {},
   "outputs": [],
   "source": [
    "import pandas as pd\n",
    "import numpy as np\n",
    "import io\n",
    "from matplotlib import pyplot as plt"
   ]
  },
  {
   "cell_type": "code",
   "execution_count": 5,
   "id": "10928b35",
   "metadata": {},
   "outputs": [],
   "source": [
    "def read_table_from_s3(key, profile_name=\"default\"):\n",
    "    session = boto3.Session(profile_name=profile_name)\n",
    "    s3 = session.resource(\"s3\")\n",
    "    bucket = s3.Bucket(\"simplebatchbucket\")\n",
    "    \n",
    "    obj = bucket.Object(key).get().get(\"Body\")\n",
    "    df = pd.read_csv(obj)\n",
    "    \n",
    "    return df"
   ]
  },
  {
   "cell_type": "code",
   "execution_count": 10,
   "id": "1b41bf96",
   "metadata": {},
   "outputs": [],
   "source": [
    "grid = np.zeros((3,3))\n",
    "for (i, lr) in enumerate([0.1, 0.01, 0.001]):\n",
    "    for (j, m) in enumerate([0.5, 0.1, 0.05]):\n",
    "        key = f\"metrics_lr{lr:0.4f}_m{m:0.4f}.csv\"\n",
    "        df = read_table_from_s3(key, profile_name=\"kaguya\")\n",
    "        grid[i,j] = df[\"val_accuracy\"].max()"
   ]
  },
  {
   "cell_type": "code",
   "execution_count": 14,
   "id": "088990a3",
   "metadata": {},
   "outputs": [
    {
     "data": {
      "text/plain": [
       "<matplotlib.colorbar.Colorbar at 0x7f59310ef190>"
      ]
     },
     "execution_count": 14,
     "metadata": {},
     "output_type": "execute_result"
    },
    {
     "data": {
      "image/png": "[encoded data removed]",
      "text/plain": [
       "<Figure size 432x432 with 2 Axes>"
      ]
     },
     "metadata": {
      "needs_background": "light"
     },
     "output_type": "display_data"
    }
   ],
   "source": [
    "fig, ax = plt.subplots(figsize=(6,6))\n",
    "ax.set_aspect('equal')\n",
    "\n",
    "c = ax.pcolor(grid, edgecolors='w', linewidths=2)\n",
    "\n",
    "for i in range(3):\n",
    "    for j in range(3):\n",
    "        text = ax.text(j+0.5, i+0.5, f\"{grid[i, j]:0.1f}\",\n",
    "                       ha=\"center\", va=\"center\", color=\"w\")\n",
    "\n",
    "ax.set_title(\"Val accuracy\")\n",
    "ax.set_xticks([0.5,1.5,2.5])\n",
    "ax.set_xticklabels([0.5, 0.1, 0.05])\n",
    "ax.set_xlabel(\"Momentum\")\n",
    "ax.set_yticks([0.5,1.5,2.5])\n",
    "ax.set_yticklabels([0.1, 0.01, 0.001])\n",
    "ax.set_ylabel(\"Learning rate\")\n",
    "\n",
    "ax.set_frame_on(False)\n",
    "fig.colorbar(c, ax=ax)"
   ]
  },
  {
   "cell_type": "code",
   "execution_count": null,
   "id": "5a0c7824",
   "metadata": {},
   "outputs": [],
   "source": []
  }
 ],
 "metadata": {
  "kernelspec": {
   "display_name": "Python 3",
   "language": "python",
   "name": "python3"
  },
  "language_info": {
   "codemirror_mode": {
    "name": "ipython",
    "version": 3
   },
   "file_extension": ".py",
   "mimetype": "text/x-python",
   "name": "python",
   "nbconvert_exporter": "python",
   "pygments_lexer": "ipython3",
   "version": "3.8.5"
  }
 },
 "nbformat": 4,
 "nbformat_minor": 5
}
